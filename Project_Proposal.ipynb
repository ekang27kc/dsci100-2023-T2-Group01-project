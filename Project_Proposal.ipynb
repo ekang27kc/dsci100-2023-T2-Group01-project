{
 "cells": [
  {
   "cell_type": "markdown",
   "id": "cd02e67b-df88-4825-b714-1583cdb90adc",
   "metadata": {},
   "source": [
    "# Project Proposal "
   ]
  },
  {
   "cell_type": "markdown",
   "id": "74540d8d-b834-4f05-a1f4-9856c0291f00",
   "metadata": {},
   "source": [
    "## Introduction\n",
    "\n",
    "\n"
   ]
  },
  {
   "cell_type": "code",
   "execution_count": 7,
   "id": "a67ebb34-7f62-417a-a3d7-96dac8ddac26",
   "metadata": {},
   "outputs": [
    {
     "name": "stderr",
     "output_type": "stream",
     "text": [
      "── \u001b[1mAttaching packages\u001b[22m ────────────────────────────────────── tidymodels 1.0.0 ──\n",
      "\n",
      "\u001b[32m✔\u001b[39m \u001b[34mbroom       \u001b[39m 1.0.0     \u001b[32m✔\u001b[39m \u001b[34mrsample     \u001b[39m 1.0.0\n",
      "\u001b[32m✔\u001b[39m \u001b[34mdials       \u001b[39m 1.0.0     \u001b[32m✔\u001b[39m \u001b[34mtune        \u001b[39m 1.0.0\n",
      "\u001b[32m✔\u001b[39m \u001b[34minfer       \u001b[39m 1.0.2     \u001b[32m✔\u001b[39m \u001b[34mworkflows   \u001b[39m 1.0.0\n",
      "\u001b[32m✔\u001b[39m \u001b[34mmodeldata   \u001b[39m 1.0.0     \u001b[32m✔\u001b[39m \u001b[34mworkflowsets\u001b[39m 1.0.0\n",
      "\u001b[32m✔\u001b[39m \u001b[34mparsnip     \u001b[39m 1.0.0     \u001b[32m✔\u001b[39m \u001b[34myardstick   \u001b[39m 1.0.0\n",
      "\u001b[32m✔\u001b[39m \u001b[34mrecipes     \u001b[39m 1.0.1     \n",
      "\n",
      "── \u001b[1mConflicts\u001b[22m ───────────────────────────────────────── tidymodels_conflicts() ──\n",
      "\u001b[31m✖\u001b[39m \u001b[34mscales\u001b[39m::\u001b[32mdiscard()\u001b[39m masks \u001b[34mpurrr\u001b[39m::discard()\n",
      "\u001b[31m✖\u001b[39m \u001b[34mdplyr\u001b[39m::\u001b[32mfilter()\u001b[39m   masks \u001b[34mstats\u001b[39m::filter()\n",
      "\u001b[31m✖\u001b[39m \u001b[34mrecipes\u001b[39m::\u001b[32mfixed()\u001b[39m  masks \u001b[34mstringr\u001b[39m::fixed()\n",
      "\u001b[31m✖\u001b[39m \u001b[34mdplyr\u001b[39m::\u001b[32mlag()\u001b[39m      masks \u001b[34mstats\u001b[39m::lag()\n",
      "\u001b[31m✖\u001b[39m \u001b[34myardstick\u001b[39m::\u001b[32mspec()\u001b[39m masks \u001b[34mreadr\u001b[39m::spec()\n",
      "\u001b[31m✖\u001b[39m \u001b[34mrecipes\u001b[39m::\u001b[32mstep()\u001b[39m   masks \u001b[34mstats\u001b[39m::step()\n",
      "\u001b[34m•\u001b[39m Dig deeper into tidy modeling with R at \u001b[32mhttps://www.tmwr.org\u001b[39m\n",
      "\n"
     ]
    }
   ],
   "source": [
    "library(tidyverse)\n",
    "library(tidymodels)"
   ]
  },
  {
   "cell_type": "code",
   "execution_count": 8,
   "id": "a613f1d3-e41f-4ad8-9fee-fccef0b3071f",
   "metadata": {},
   "outputs": [
    {
     "name": "stderr",
     "output_type": "stream",
     "text": [
      "\u001b[36mℹ\u001b[39m Using \u001b[34m\u001b[34m\"','\"\u001b[34m\u001b[39m as decimal and \u001b[34m\u001b[34m\"'.'\"\u001b[34m\u001b[39m as grouping mark. Use `read_delim()` for more control.\n",
      "\n",
      "\u001b[1mRows: \u001b[22m\u001b[34m4424\u001b[39m \u001b[1mColumns: \u001b[22m\u001b[34m35\u001b[39m\n",
      "\u001b[36m──\u001b[39m \u001b[1mColumn specification\u001b[22m \u001b[36m────────────────────────────────────────────────────────\u001b[39m\n",
      "\u001b[1mDelimiter:\u001b[22m \";\"\n",
      "\u001b[31mchr\u001b[39m  (5): Curricular units 1st sem (grade), Curricular units 2nd sem (grade)...\n",
      "\u001b[32mdbl\u001b[39m (29): Marital status, Application mode, Application order, Course, Dayti...\n",
      "\n",
      "\u001b[36mℹ\u001b[39m Use `spec()` to retrieve the full column specification for this data.\n",
      "\u001b[36mℹ\u001b[39m Specify the column types or set `show_col_types = FALSE` to quiet this message.\n"
     ]
    },
    {
     "data": {
      "text/html": [
       "<table class=\"dataframe\">\n",
       "<caption>A tibble: 6 × 35</caption>\n",
       "<thead>\n",
       "\t<tr><th scope=col>Marital status</th><th scope=col>Application mode</th><th scope=col>Application order</th><th scope=col>Course</th><th scope=col>Daytime/evening attendance</th><th scope=col>Previous qualification</th><th scope=col>Nacionality</th><th scope=col>Mother's qualification</th><th scope=col>Father's qualification</th><th scope=col>Mother's occupation</th><th scope=col>⋯</th><th scope=col>Curricular units 2nd sem (credited)</th><th scope=col>Curricular units 2nd sem (enrolled)</th><th scope=col>Curricular units 2nd sem (evaluations)</th><th scope=col>Curricular units 2nd sem (approved)</th><th scope=col>Curricular units 2nd sem (grade)</th><th scope=col>Curricular units 2nd sem (without evaluations)</th><th scope=col>Unemployment rate</th><th scope=col>Inflation rate</th><th scope=col>GDP</th><th scope=col>Target</th></tr>\n",
       "\t<tr><th scope=col>&lt;dbl&gt;</th><th scope=col>&lt;dbl&gt;</th><th scope=col>&lt;dbl&gt;</th><th scope=col>&lt;dbl&gt;</th><th scope=col>&lt;dbl&gt;</th><th scope=col>&lt;dbl&gt;</th><th scope=col>&lt;dbl&gt;</th><th scope=col>&lt;dbl&gt;</th><th scope=col>&lt;dbl&gt;</th><th scope=col>&lt;dbl&gt;</th><th scope=col>⋯</th><th scope=col>&lt;dbl&gt;</th><th scope=col>&lt;dbl&gt;</th><th scope=col>&lt;dbl&gt;</th><th scope=col>&lt;dbl&gt;</th><th scope=col>&lt;chr&gt;</th><th scope=col>&lt;dbl&gt;</th><th scope=col>&lt;dbl&gt;</th><th scope=col>&lt;chr&gt;</th><th scope=col>&lt;chr&gt;</th><th scope=col>&lt;chr&gt;</th></tr>\n",
       "</thead>\n",
       "<tbody>\n",
       "\t<tr><td>1</td><td> 8</td><td>5</td><td> 2</td><td>1</td><td> 1</td><td>1</td><td>13</td><td>10</td><td> 6</td><td>⋯</td><td>0</td><td>0</td><td> 0</td><td>0</td><td>0.0               </td><td>0</td><td>108</td><td>1.4 </td><td>1.74 </td><td>Dropout </td></tr>\n",
       "\t<tr><td>1</td><td> 6</td><td>1</td><td>11</td><td>1</td><td> 1</td><td>1</td><td> 1</td><td> 3</td><td> 4</td><td>⋯</td><td>0</td><td>6</td><td> 6</td><td>6</td><td>13.666666666666666</td><td>0</td><td>139</td><td>-0.3</td><td>0.79 </td><td>Graduate</td></tr>\n",
       "\t<tr><td>1</td><td> 1</td><td>5</td><td> 5</td><td>1</td><td> 1</td><td>1</td><td>22</td><td>27</td><td>10</td><td>⋯</td><td>0</td><td>6</td><td> 0</td><td>0</td><td>0.0               </td><td>0</td><td>108</td><td>1.4 </td><td>1.74 </td><td>Dropout </td></tr>\n",
       "\t<tr><td>1</td><td> 8</td><td>2</td><td>15</td><td>1</td><td> 1</td><td>1</td><td>23</td><td>27</td><td> 6</td><td>⋯</td><td>0</td><td>6</td><td>10</td><td>5</td><td>12.4              </td><td>0</td><td> 94</td><td>-0.8</td><td>-3.12</td><td>Graduate</td></tr>\n",
       "\t<tr><td>2</td><td>12</td><td>1</td><td> 3</td><td>0</td><td> 1</td><td>1</td><td>22</td><td>28</td><td>10</td><td>⋯</td><td>0</td><td>6</td><td> 6</td><td>6</td><td>13.0              </td><td>0</td><td>139</td><td>-0.3</td><td>0.79 </td><td>Graduate</td></tr>\n",
       "\t<tr><td>2</td><td>12</td><td>1</td><td>17</td><td>0</td><td>12</td><td>1</td><td>22</td><td>27</td><td>10</td><td>⋯</td><td>0</td><td>5</td><td>17</td><td>5</td><td>11.5              </td><td>5</td><td>162</td><td>0.3 </td><td>-0.92</td><td>Graduate</td></tr>\n",
       "</tbody>\n",
       "</table>\n"
      ],
      "text/latex": [
       "A tibble: 6 × 35\n",
       "\\begin{tabular}{lllllllllllllllllllll}\n",
       " Marital status & Application mode & Application order & Course & Daytime/evening attendance & Previous qualification & Nacionality & Mother's qualification & Father's qualification & Mother's occupation & ⋯ & Curricular units 2nd sem (credited) & Curricular units 2nd sem (enrolled) & Curricular units 2nd sem (evaluations) & Curricular units 2nd sem (approved) & Curricular units 2nd sem (grade) & Curricular units 2nd sem (without evaluations) & Unemployment rate & Inflation rate & GDP & Target\\\\\n",
       " <dbl> & <dbl> & <dbl> & <dbl> & <dbl> & <dbl> & <dbl> & <dbl> & <dbl> & <dbl> & ⋯ & <dbl> & <dbl> & <dbl> & <dbl> & <chr> & <dbl> & <dbl> & <chr> & <chr> & <chr>\\\\\n",
       "\\hline\n",
       "\t 1 &  8 & 5 &  2 & 1 &  1 & 1 & 13 & 10 &  6 & ⋯ & 0 & 0 &  0 & 0 & 0.0                & 0 & 108 & 1.4  & 1.74  & Dropout \\\\\n",
       "\t 1 &  6 & 1 & 11 & 1 &  1 & 1 &  1 &  3 &  4 & ⋯ & 0 & 6 &  6 & 6 & 13.666666666666666 & 0 & 139 & -0.3 & 0.79  & Graduate\\\\\n",
       "\t 1 &  1 & 5 &  5 & 1 &  1 & 1 & 22 & 27 & 10 & ⋯ & 0 & 6 &  0 & 0 & 0.0                & 0 & 108 & 1.4  & 1.74  & Dropout \\\\\n",
       "\t 1 &  8 & 2 & 15 & 1 &  1 & 1 & 23 & 27 &  6 & ⋯ & 0 & 6 & 10 & 5 & 12.4               & 0 &  94 & -0.8 & -3.12 & Graduate\\\\\n",
       "\t 2 & 12 & 1 &  3 & 0 &  1 & 1 & 22 & 28 & 10 & ⋯ & 0 & 6 &  6 & 6 & 13.0               & 0 & 139 & -0.3 & 0.79  & Graduate\\\\\n",
       "\t 2 & 12 & 1 & 17 & 0 & 12 & 1 & 22 & 27 & 10 & ⋯ & 0 & 5 & 17 & 5 & 11.5               & 5 & 162 & 0.3  & -0.92 & Graduate\\\\\n",
       "\\end{tabular}\n"
      ],
      "text/markdown": [
       "\n",
       "A tibble: 6 × 35\n",
       "\n",
       "| Marital status &lt;dbl&gt; | Application mode &lt;dbl&gt; | Application order &lt;dbl&gt; | Course &lt;dbl&gt; | Daytime/evening attendance &lt;dbl&gt; | Previous qualification &lt;dbl&gt; | Nacionality &lt;dbl&gt; | Mother's qualification &lt;dbl&gt; | Father's qualification &lt;dbl&gt; | Mother's occupation &lt;dbl&gt; | ⋯ ⋯ | Curricular units 2nd sem (credited) &lt;dbl&gt; | Curricular units 2nd sem (enrolled) &lt;dbl&gt; | Curricular units 2nd sem (evaluations) &lt;dbl&gt; | Curricular units 2nd sem (approved) &lt;dbl&gt; | Curricular units 2nd sem (grade) &lt;chr&gt; | Curricular units 2nd sem (without evaluations) &lt;dbl&gt; | Unemployment rate &lt;dbl&gt; | Inflation rate &lt;chr&gt; | GDP &lt;chr&gt; | Target &lt;chr&gt; |\n",
       "|---|---|---|---|---|---|---|---|---|---|---|---|---|---|---|---|---|---|---|---|---|\n",
       "| 1 |  8 | 5 |  2 | 1 |  1 | 1 | 13 | 10 |  6 | ⋯ | 0 | 0 |  0 | 0 | 0.0                | 0 | 108 | 1.4  | 1.74  | Dropout  |\n",
       "| 1 |  6 | 1 | 11 | 1 |  1 | 1 |  1 |  3 |  4 | ⋯ | 0 | 6 |  6 | 6 | 13.666666666666666 | 0 | 139 | -0.3 | 0.79  | Graduate |\n",
       "| 1 |  1 | 5 |  5 | 1 |  1 | 1 | 22 | 27 | 10 | ⋯ | 0 | 6 |  0 | 0 | 0.0                | 0 | 108 | 1.4  | 1.74  | Dropout  |\n",
       "| 1 |  8 | 2 | 15 | 1 |  1 | 1 | 23 | 27 |  6 | ⋯ | 0 | 6 | 10 | 5 | 12.4               | 0 |  94 | -0.8 | -3.12 | Graduate |\n",
       "| 2 | 12 | 1 |  3 | 0 |  1 | 1 | 22 | 28 | 10 | ⋯ | 0 | 6 |  6 | 6 | 13.0               | 0 | 139 | -0.3 | 0.79  | Graduate |\n",
       "| 2 | 12 | 1 | 17 | 0 | 12 | 1 | 22 | 27 | 10 | ⋯ | 0 | 5 | 17 | 5 | 11.5               | 5 | 162 | 0.3  | -0.92 | Graduate |\n",
       "\n"
      ],
      "text/plain": [
       "  Marital status Application mode Application order Course\n",
       "1 1               8               5                  2    \n",
       "2 1               6               1                 11    \n",
       "3 1               1               5                  5    \n",
       "4 1               8               2                 15    \n",
       "5 2              12               1                  3    \n",
       "6 2              12               1                 17    \n",
       "  Daytime/evening attendance Previous qualification Nacionality\n",
       "1 1                           1                     1          \n",
       "2 1                           1                     1          \n",
       "3 1                           1                     1          \n",
       "4 1                           1                     1          \n",
       "5 0                           1                     1          \n",
       "6 0                          12                     1          \n",
       "  Mother's qualification Father's qualification Mother's occupation ⋯\n",
       "1 13                     10                      6                  ⋯\n",
       "2  1                      3                      4                  ⋯\n",
       "3 22                     27                     10                  ⋯\n",
       "4 23                     27                      6                  ⋯\n",
       "5 22                     28                     10                  ⋯\n",
       "6 22                     27                     10                  ⋯\n",
       "  Curricular units 2nd sem (credited) Curricular units 2nd sem (enrolled)\n",
       "1 0                                   0                                  \n",
       "2 0                                   6                                  \n",
       "3 0                                   6                                  \n",
       "4 0                                   6                                  \n",
       "5 0                                   6                                  \n",
       "6 0                                   5                                  \n",
       "  Curricular units 2nd sem (evaluations) Curricular units 2nd sem (approved)\n",
       "1  0                                     0                                  \n",
       "2  6                                     6                                  \n",
       "3  0                                     0                                  \n",
       "4 10                                     5                                  \n",
       "5  6                                     6                                  \n",
       "6 17                                     5                                  \n",
       "  Curricular units 2nd sem (grade)\n",
       "1 0.0                             \n",
       "2 13.666666666666666              \n",
       "3 0.0                             \n",
       "4 12.4                            \n",
       "5 13.0                            \n",
       "6 11.5                            \n",
       "  Curricular units 2nd sem (without evaluations) Unemployment rate\n",
       "1 0                                              108              \n",
       "2 0                                              139              \n",
       "3 0                                              108              \n",
       "4 0                                               94              \n",
       "5 0                                              139              \n",
       "6 5                                              162              \n",
       "  Inflation rate GDP   Target  \n",
       "1 1.4            1.74  Dropout \n",
       "2 -0.3           0.79  Graduate\n",
       "3 1.4            1.74  Dropout \n",
       "4 -0.8           -3.12 Graduate\n",
       "5 -0.3           0.79  Graduate\n",
       "6 0.3            -0.92 Graduate"
      ]
     },
     "metadata": {},
     "output_type": "display_data"
    }
   ],
   "source": [
    "data_set<- read_csv2(\"https://zenodo.org/record/5777340/files/dataset.csv?download=1\")\n",
    "head(data_set)"
   ]
  },
  {
   "cell_type": "markdown",
   "id": "ad39ef69-5b60-49f8-94f8-b281b91c4a6c",
   "metadata": {},
   "source": [
    "Methods\n",
    "1. Choosing Predictors\n",
    "Four characteristics that may predict whether or not an individual will be a graduate or a dropout were chosen.\n",
    "Gender\n",
    "Many studies have shown that females are more likely to graduate with a degree than males. (source: https://www.brookings.edu/blog/up-front/2021/10/08/the-male-college-crisis-is-not-just-in-enrollment-but-completion/)\n",
    "Age at Enrollment\n",
    "Differences in experience and maturity of older ages may contribute to better academic performance.\n",
    "1st & 2nd Semester Grades (2 predictors)\n",
    "Grades may be a huge predictor, as low grades are likely to influence a student's decision of dropping out. Also, a low grade in the first semester and a huge improvement in the second semester and vice versa could lead to an interesting prediction.\n",
    "The goal is to see if these predictors do indeed predict whether or an individual will be a graduate or dropout.\n",
    "2. Tidying & Wrangling Data\n",
    "Select the 4 columns/predictors of interest in the data set, and rename them to a more human-readable form.\n",
    "Filter out the rows with \"Enrolled\" as the Target variable since it is an unwanted label for analysis. Also, filter out NA values in the data set.\n",
    "Since Target is the chosen label, convert the Target vector to a factor from a character\n",
    "3.Training Data + Selecting Parameter Value\n",
    "Split the tidied data set into a training and testing dataset\n",
    "Creating a recipe specifying the label and predictors' columns and standardize the training dataset to ensure all data are in a comparable scale that contributes equally to k-nearest neighbor calculations\n",
    "Using the K-nearest neighbor algorithm, tune the model in order to pick the best K value\n",
    "Perform a 5-fold validation to evaluate the accuracy of the classifier of each k value\n",
    "Perform a workflow analysis to fit the model for each k value (of chosen number of k values).\n",
    "Collect the estimated accuracies of each classifier created and create a scatter plot graph to choose the optimum K value for training the training set\n",
    "Retrain the training dataset with the chosen K value\n",
    "4. Evaluating Accuracy of Training Dataset + Conclusion\n",
    "Test the trained model with the testing dataset.\n",
    "By comparing its predictions and true labels from the original dataset, obtain the classifier's accuracy.\n",
    "Determine if the chosen four predictors do indeed predict whether a student will be a graduate or a dropout."
   ]
  },
  {
   "cell_type": "code",
   "execution_count": null,
   "id": "67fbd344-2e10-4592-a554-733cf7d8a360",
   "metadata": {},
   "outputs": [],
   "source": []
  }
 ],
 "metadata": {
  "kernelspec": {
   "display_name": "R",
   "language": "R",
   "name": "ir"
  },
  "language_info": {
   "codemirror_mode": "r",
   "file_extension": ".r",
   "mimetype": "text/x-r-source",
   "name": "R",
   "pygments_lexer": "r",
   "version": "4.1.3"
  }
 },
 "nbformat": 4,
 "nbformat_minor": 5
}
