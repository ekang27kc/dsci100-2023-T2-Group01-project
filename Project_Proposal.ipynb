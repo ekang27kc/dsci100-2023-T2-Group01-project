{
 "cells": [
  {
   "cell_type": "markdown",
   "id": "9bf8e65d-01c5-47bd-9ad6-91c603c05216",
   "metadata": {},
   "source": [
    "# Predicting Students' Academic Success\n"
   ]
  },
  {
   "cell_type": "markdown",
   "id": "cb327217-2dd5-48e5-9a0b-0b4f4a88d74a",
   "metadata": {},
   "source": [
    "*By Chanon Mallikamas, Sylvia Ying, Xiaolei Lin, and Erin Kang*"
   ]
  },
  {
   "cell_type": "markdown",
   "id": "9088d6c7-6fbb-4dee-afec-544baa82c05e",
   "metadata": {},
   "source": [
    "## FYI\n",
    "\n",
    "how to italicize: \n",
    "*hi*\n",
    "\n",
    "how to bold: \n",
    "**text** \n",
    "\n",
    "how to decrease text size: \n",
    "increase number of # used \n",
    "\n",
    "example, \n",
    "with three ### \n",
    "### Title\n",
    "with five ##### \n",
    "##### Title"
   ]
  },
  {
   "cell_type": "markdown",
   "id": "4ead4461-96d1-43d0-b9cc-235a7a7e2904",
   "metadata": {},
   "source": [
    "## Introduction\n",
    "\n",
    "From Rubric: \n",
    "*Provide some relevant background information on the topic so that someone unfamiliar with it will be prepared to understand the rest of your proposal\n",
    "Clearly state the question you will try to answer with your project\n",
    "Identify and describe the dataset that will be used to answer the question*\n",
    "\n",
    "OUR CHARACTER: \n",
    "gender (female), age of enrollment (18), sem1 grade (8), sem2 grade (13), course (fixed! - 12)"
   ]
  },
  {
   "cell_type": "code",
   "execution_count": null,
   "id": "caf3c814-40bd-4cb7-a7f3-fa3714558451",
   "metadata": {},
   "outputs": [],
   "source": [
    "#load necessary packages \n",
    "library(tidyverse)\n",
    "library(tidymodels)"
   ]
  },
  {
   "cell_type": "code",
   "execution_count": null,
   "id": "024200c5-f384-4230-ae47-48c744abf86c",
   "metadata": {},
   "outputs": [],
   "source": [
    "#set seed for the analysis to be reproducible\n",
    "set.seed(1)"
   ]
  },
  {
   "cell_type": "code",
   "execution_count": null,
   "id": "4df997ef-ec83-45f8-a2d2-2e1177963a96",
   "metadata": {},
   "outputs": [],
   "source": [
    "#load data into R\n",
    "#use head() since data is too large\n",
    "data_set<-read_csv(\"https://raw.githubusercontent.com/ekang27kc/dsci100-2023-T2-Group01-project/main/dataset.csv\")\n",
    "head(data_set)"
   ]
  },
  {
   "cell_type": "markdown",
   "id": "ef60dc02-0cb4-47ce-a470-890981965d77",
   "metadata": {},
   "source": [
    "# Methods\n",
    "\n",
    "Explain how you will conduct either your data analysis and which variables/columns you will use. \n",
    "For each variable think: is this a useful variable for prediction?\n",
    "Describe at least one way that you will visualize the results\n",
    "\n",
    "Goal: Create a training set to classify whether or not a female undergraduate student in nursing who enrolled to university at age 18 and gained a 60% and 70% grade in their first and second semester, respectively, in their first year.\n",
    "\n",
    "#### Step One: Tidy & Wrangling Data\n",
    "\n",
    "Using the **select()** function, select only the columns needed to answer the predictive question, which are Gender, Age at enrollment, Curricular units 1st sem (grade), and Curricular units 2nd sem (grade).\n",
    "\n",
    "Using the **filter()** function, select only the observations/rows of students who are in nursing (course is nursing). \n",
    "Using the same function, filter out rows with \"Enrolled\" as the Target (the unwanted label for analysis). \n",
    "\n",
    "Using **!is.na**, remove all na values in each of the chosen columns.\n",
    "\n",
    "Since Target (for Graduate or Dropout) is the chosen label, using the **as_factor()** function, convert Target to a factor variable from a character variable.  \n",
    "\n",
    "\n",
    "##### Step Two: Training Data + Selecting Perameter Value\n",
    "\n",
    "Using the inital_split() function, split the data set into a training and testing data set. \n",
    "\n",
    "Train the training data set by: \n",
    "\n",
    "1. Using the **recipe()** function, creating a recipe specifying the label and predictors' columns and standardizing the data set to ensure all data are in a comparable scale that contribute equally to k-nearest neighbor calculations. \n",
    "2. Using the **nearest_neighbor()** function, specify the model (k-nearest neighbor) with tuning on the number of neighbors \n",
    "3. Using the **vfold_cv** funciton, perform a 5-fold validation to evaluate the accuracy of the classifier of each k value\n",
    "4. Using the **workflow()** function, create a workflow analysis with the created recipe, model specification, cross-validation model as well as with 10 k values and the tune_grid function to fit the model for each k value. \n",
    "5. Using the **collect_metrics** function, collect the means (estimated accuracies) of classifiers with different k values\n",
    "6. Using the **filter()** function, filter rows/observations with \"accuracy\" for .metric to only consider the means (estimated accuracies) of the classifiers.  \n",
    "7. Plot a mean vs neighbor number graph to visually predict the optimum k value for training the training set. \n",
    "\n",
    "##### Step Three: Predicting Target (Label)\n",
    "\n"
   ]
  }
 ],
 "metadata": {
  "kernelspec": {
   "display_name": "R",
   "language": "R",
   "name": "ir"
  },
  "language_info": {
   "codemirror_mode": "r",
   "file_extension": ".r",
   "mimetype": "text/x-r-source",
   "name": "R",
   "pygments_lexer": "r",
   "version": "4.1.3"
  }
 },
 "nbformat": 4,
 "nbformat_minor": 5
}
