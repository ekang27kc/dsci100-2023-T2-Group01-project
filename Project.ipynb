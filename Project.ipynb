{
 "cells": [
  {
   "cell_type": "markdown",
   "id": "9bf8e65d-01c5-47bd-9ad6-91c603c05216",
   "metadata": {},
   "source": [
    "# Predicting Students' Academic Success\n"
   ]
  },
  {
   "cell_type": "markdown",
   "id": "4ead4461-96d1-43d0-b9cc-235a7a7e2904",
   "metadata": {},
   "source": [
    "### Introductin\n",
    "\n",
    "*hi*\n",
    "\n",
    "From Rubric: \n",
    "\n",
    "*Provide some relevant background information on the topic so that someone unfamiliar with it will be prepared to understand the rest of your proposal\n",
    "Clearly state the question you will try to answer with your project\n",
    "Identify and describe the dataset that will be used to answer the question*\n",
    "\n",
    "OUR CHARACTER: \n",
    "gender (female), age of enrollment (18), sem1 grade (8), sem2 grade (13), course (fixed! - 12)"
   ]
  },
  {
   "cell_type": "code",
   "execution_count": 16,
   "id": "caf3c814-40bd-4cb7-a7f3-fa3714558451",
   "metadata": {},
   "outputs": [],
   "source": [
    "#load necessary packages \n",
    "library(tidyverse)\n",
    "library(tidymodels)"
   ]
  },
  {
   "cell_type": "code",
   "execution_count": 20,
   "id": "024200c5-f384-4230-ae47-48c744abf86c",
   "metadata": {},
   "outputs": [],
   "source": [
    "#set seed for the analysis to be reproducible\n",
    "set.seed(1)"
   ]
  },
  {
   "cell_type": "code",
   "execution_count": 19,
   "id": "4df997ef-ec83-45f8-a2d2-2e1177963a96",
   "metadata": {},
   "outputs": [
    {
     "name": "stderr",
     "output_type": "stream",
     "text": [
      "\u001b[1mRows: \u001b[22m\u001b[34m4424\u001b[39m \u001b[1mColumns: \u001b[22m\u001b[34m35\u001b[39m\n",
      "\u001b[36m──\u001b[39m \u001b[1mColumn specification\u001b[22m \u001b[36m────────────────────────────────────────────────────────\u001b[39m\n",
      "\u001b[1mDelimiter:\u001b[22m \",\"\n",
      "\u001b[31mchr\u001b[39m  (1): Target\n",
      "\u001b[32mdbl\u001b[39m (34): Marital status, Application mode, Application order, Course, Dayti...\n",
      "\n",
      "\u001b[36mℹ\u001b[39m Use `spec()` to retrieve the full column specification for this data.\n",
      "\u001b[36mℹ\u001b[39m Specify the column types or set `show_col_types = FALSE` to quiet this message.\n"
     ]
    },
    {
     "data": {
      "text/html": [
       "<table class=\"dataframe\">\n",
       "<caption>A tibble: 6 × 35</caption>\n",
       "<thead>\n",
       "\t<tr><th scope=col>Marital status</th><th scope=col>Application mode</th><th scope=col>Application order</th><th scope=col>Course</th><th scope=col>Daytime/evening attendance</th><th scope=col>Previous qualification</th><th scope=col>Nacionality</th><th scope=col>Mother's qualification</th><th scope=col>Father's qualification</th><th scope=col>Mother's occupation</th><th scope=col>⋯</th><th scope=col>Curricular units 2nd sem (credited)</th><th scope=col>Curricular units 2nd sem (enrolled)</th><th scope=col>Curricular units 2nd sem (evaluations)</th><th scope=col>Curricular units 2nd sem (approved)</th><th scope=col>Curricular units 2nd sem (grade)</th><th scope=col>Curricular units 2nd sem (without evaluations)</th><th scope=col>Unemployment rate</th><th scope=col>Inflation rate</th><th scope=col>GDP</th><th scope=col>Target</th></tr>\n",
       "\t<tr><th scope=col>&lt;dbl&gt;</th><th scope=col>&lt;dbl&gt;</th><th scope=col>&lt;dbl&gt;</th><th scope=col>&lt;dbl&gt;</th><th scope=col>&lt;dbl&gt;</th><th scope=col>&lt;dbl&gt;</th><th scope=col>&lt;dbl&gt;</th><th scope=col>&lt;dbl&gt;</th><th scope=col>&lt;dbl&gt;</th><th scope=col>&lt;dbl&gt;</th><th scope=col>⋯</th><th scope=col>&lt;dbl&gt;</th><th scope=col>&lt;dbl&gt;</th><th scope=col>&lt;dbl&gt;</th><th scope=col>&lt;dbl&gt;</th><th scope=col>&lt;dbl&gt;</th><th scope=col>&lt;dbl&gt;</th><th scope=col>&lt;dbl&gt;</th><th scope=col>&lt;dbl&gt;</th><th scope=col>&lt;dbl&gt;</th><th scope=col>&lt;chr&gt;</th></tr>\n",
       "</thead>\n",
       "<tbody>\n",
       "\t<tr><td>1</td><td> 8</td><td>5</td><td> 2</td><td>1</td><td> 1</td><td>1</td><td>13</td><td>10</td><td> 6</td><td>⋯</td><td>0</td><td>0</td><td> 0</td><td>0</td><td> 0.00000</td><td>0</td><td>10.8</td><td> 1.4</td><td> 1.74</td><td>Dropout </td></tr>\n",
       "\t<tr><td>1</td><td> 6</td><td>1</td><td>11</td><td>1</td><td> 1</td><td>1</td><td> 1</td><td> 3</td><td> 4</td><td>⋯</td><td>0</td><td>6</td><td> 6</td><td>6</td><td>13.66667</td><td>0</td><td>13.9</td><td>-0.3</td><td> 0.79</td><td>Graduate</td></tr>\n",
       "\t<tr><td>1</td><td> 1</td><td>5</td><td> 5</td><td>1</td><td> 1</td><td>1</td><td>22</td><td>27</td><td>10</td><td>⋯</td><td>0</td><td>6</td><td> 0</td><td>0</td><td> 0.00000</td><td>0</td><td>10.8</td><td> 1.4</td><td> 1.74</td><td>Dropout </td></tr>\n",
       "\t<tr><td>1</td><td> 8</td><td>2</td><td>15</td><td>1</td><td> 1</td><td>1</td><td>23</td><td>27</td><td> 6</td><td>⋯</td><td>0</td><td>6</td><td>10</td><td>5</td><td>12.40000</td><td>0</td><td> 9.4</td><td>-0.8</td><td>-3.12</td><td>Graduate</td></tr>\n",
       "\t<tr><td>2</td><td>12</td><td>1</td><td> 3</td><td>0</td><td> 1</td><td>1</td><td>22</td><td>28</td><td>10</td><td>⋯</td><td>0</td><td>6</td><td> 6</td><td>6</td><td>13.00000</td><td>0</td><td>13.9</td><td>-0.3</td><td> 0.79</td><td>Graduate</td></tr>\n",
       "\t<tr><td>2</td><td>12</td><td>1</td><td>17</td><td>0</td><td>12</td><td>1</td><td>22</td><td>27</td><td>10</td><td>⋯</td><td>0</td><td>5</td><td>17</td><td>5</td><td>11.50000</td><td>5</td><td>16.2</td><td> 0.3</td><td>-0.92</td><td>Graduate</td></tr>\n",
       "</tbody>\n",
       "</table>\n"
      ],
      "text/latex": [
       "A tibble: 6 × 35\n",
       "\\begin{tabular}{lllllllllllllllllllll}\n",
       " Marital status & Application mode & Application order & Course & Daytime/evening attendance & Previous qualification & Nacionality & Mother's qualification & Father's qualification & Mother's occupation & ⋯ & Curricular units 2nd sem (credited) & Curricular units 2nd sem (enrolled) & Curricular units 2nd sem (evaluations) & Curricular units 2nd sem (approved) & Curricular units 2nd sem (grade) & Curricular units 2nd sem (without evaluations) & Unemployment rate & Inflation rate & GDP & Target\\\\\n",
       " <dbl> & <dbl> & <dbl> & <dbl> & <dbl> & <dbl> & <dbl> & <dbl> & <dbl> & <dbl> & ⋯ & <dbl> & <dbl> & <dbl> & <dbl> & <dbl> & <dbl> & <dbl> & <dbl> & <dbl> & <chr>\\\\\n",
       "\\hline\n",
       "\t 1 &  8 & 5 &  2 & 1 &  1 & 1 & 13 & 10 &  6 & ⋯ & 0 & 0 &  0 & 0 &  0.00000 & 0 & 10.8 &  1.4 &  1.74 & Dropout \\\\\n",
       "\t 1 &  6 & 1 & 11 & 1 &  1 & 1 &  1 &  3 &  4 & ⋯ & 0 & 6 &  6 & 6 & 13.66667 & 0 & 13.9 & -0.3 &  0.79 & Graduate\\\\\n",
       "\t 1 &  1 & 5 &  5 & 1 &  1 & 1 & 22 & 27 & 10 & ⋯ & 0 & 6 &  0 & 0 &  0.00000 & 0 & 10.8 &  1.4 &  1.74 & Dropout \\\\\n",
       "\t 1 &  8 & 2 & 15 & 1 &  1 & 1 & 23 & 27 &  6 & ⋯ & 0 & 6 & 10 & 5 & 12.40000 & 0 &  9.4 & -0.8 & -3.12 & Graduate\\\\\n",
       "\t 2 & 12 & 1 &  3 & 0 &  1 & 1 & 22 & 28 & 10 & ⋯ & 0 & 6 &  6 & 6 & 13.00000 & 0 & 13.9 & -0.3 &  0.79 & Graduate\\\\\n",
       "\t 2 & 12 & 1 & 17 & 0 & 12 & 1 & 22 & 27 & 10 & ⋯ & 0 & 5 & 17 & 5 & 11.50000 & 5 & 16.2 &  0.3 & -0.92 & Graduate\\\\\n",
       "\\end{tabular}\n"
      ],
      "text/markdown": [
       "\n",
       "A tibble: 6 × 35\n",
       "\n",
       "| Marital status &lt;dbl&gt; | Application mode &lt;dbl&gt; | Application order &lt;dbl&gt; | Course &lt;dbl&gt; | Daytime/evening attendance &lt;dbl&gt; | Previous qualification &lt;dbl&gt; | Nacionality &lt;dbl&gt; | Mother's qualification &lt;dbl&gt; | Father's qualification &lt;dbl&gt; | Mother's occupation &lt;dbl&gt; | ⋯ ⋯ | Curricular units 2nd sem (credited) &lt;dbl&gt; | Curricular units 2nd sem (enrolled) &lt;dbl&gt; | Curricular units 2nd sem (evaluations) &lt;dbl&gt; | Curricular units 2nd sem (approved) &lt;dbl&gt; | Curricular units 2nd sem (grade) &lt;dbl&gt; | Curricular units 2nd sem (without evaluations) &lt;dbl&gt; | Unemployment rate &lt;dbl&gt; | Inflation rate &lt;dbl&gt; | GDP &lt;dbl&gt; | Target &lt;chr&gt; |\n",
       "|---|---|---|---|---|---|---|---|---|---|---|---|---|---|---|---|---|---|---|---|---|\n",
       "| 1 |  8 | 5 |  2 | 1 |  1 | 1 | 13 | 10 |  6 | ⋯ | 0 | 0 |  0 | 0 |  0.00000 | 0 | 10.8 |  1.4 |  1.74 | Dropout  |\n",
       "| 1 |  6 | 1 | 11 | 1 |  1 | 1 |  1 |  3 |  4 | ⋯ | 0 | 6 |  6 | 6 | 13.66667 | 0 | 13.9 | -0.3 |  0.79 | Graduate |\n",
       "| 1 |  1 | 5 |  5 | 1 |  1 | 1 | 22 | 27 | 10 | ⋯ | 0 | 6 |  0 | 0 |  0.00000 | 0 | 10.8 |  1.4 |  1.74 | Dropout  |\n",
       "| 1 |  8 | 2 | 15 | 1 |  1 | 1 | 23 | 27 |  6 | ⋯ | 0 | 6 | 10 | 5 | 12.40000 | 0 |  9.4 | -0.8 | -3.12 | Graduate |\n",
       "| 2 | 12 | 1 |  3 | 0 |  1 | 1 | 22 | 28 | 10 | ⋯ | 0 | 6 |  6 | 6 | 13.00000 | 0 | 13.9 | -0.3 |  0.79 | Graduate |\n",
       "| 2 | 12 | 1 | 17 | 0 | 12 | 1 | 22 | 27 | 10 | ⋯ | 0 | 5 | 17 | 5 | 11.50000 | 5 | 16.2 |  0.3 | -0.92 | Graduate |\n",
       "\n"
      ],
      "text/plain": [
       "  Marital status Application mode Application order Course\n",
       "1 1               8               5                  2    \n",
       "2 1               6               1                 11    \n",
       "3 1               1               5                  5    \n",
       "4 1               8               2                 15    \n",
       "5 2              12               1                  3    \n",
       "6 2              12               1                 17    \n",
       "  Daytime/evening attendance Previous qualification Nacionality\n",
       "1 1                           1                     1          \n",
       "2 1                           1                     1          \n",
       "3 1                           1                     1          \n",
       "4 1                           1                     1          \n",
       "5 0                           1                     1          \n",
       "6 0                          12                     1          \n",
       "  Mother's qualification Father's qualification Mother's occupation ⋯\n",
       "1 13                     10                      6                  ⋯\n",
       "2  1                      3                      4                  ⋯\n",
       "3 22                     27                     10                  ⋯\n",
       "4 23                     27                      6                  ⋯\n",
       "5 22                     28                     10                  ⋯\n",
       "6 22                     27                     10                  ⋯\n",
       "  Curricular units 2nd sem (credited) Curricular units 2nd sem (enrolled)\n",
       "1 0                                   0                                  \n",
       "2 0                                   6                                  \n",
       "3 0                                   6                                  \n",
       "4 0                                   6                                  \n",
       "5 0                                   6                                  \n",
       "6 0                                   5                                  \n",
       "  Curricular units 2nd sem (evaluations) Curricular units 2nd sem (approved)\n",
       "1  0                                     0                                  \n",
       "2  6                                     6                                  \n",
       "3  0                                     0                                  \n",
       "4 10                                     5                                  \n",
       "5  6                                     6                                  \n",
       "6 17                                     5                                  \n",
       "  Curricular units 2nd sem (grade)\n",
       "1  0.00000                        \n",
       "2 13.66667                        \n",
       "3  0.00000                        \n",
       "4 12.40000                        \n",
       "5 13.00000                        \n",
       "6 11.50000                        \n",
       "  Curricular units 2nd sem (without evaluations) Unemployment rate\n",
       "1 0                                              10.8             \n",
       "2 0                                              13.9             \n",
       "3 0                                              10.8             \n",
       "4 0                                               9.4             \n",
       "5 0                                              13.9             \n",
       "6 5                                              16.2             \n",
       "  Inflation rate GDP   Target  \n",
       "1  1.4            1.74 Dropout \n",
       "2 -0.3            0.79 Graduate\n",
       "3  1.4            1.74 Dropout \n",
       "4 -0.8           -3.12 Graduate\n",
       "5 -0.3            0.79 Graduate\n",
       "6  0.3           -0.92 Graduate"
      ]
     },
     "metadata": {},
     "output_type": "display_data"
    }
   ],
   "source": [
    "#load data into R\n",
    "#use head() since data is too large\n",
    "data_set<-read_csv(\"https://raw.githubusercontent.com/ekang27kc/dsci100-2023-T2-Group07-project/main/dataset.csv\")\n",
    "head(data_set)"
   ]
  },
  {
   "cell_type": "code",
   "execution_count": null,
   "id": "e33e4d0f-ce9e-4ef8-9149-0d693c1ccf41",
   "metadata": {},
   "outputs": [],
   "source": [
    "select()\n",
    "filter"
   ]
  }
 ],
 "metadata": {
  "kernelspec": {
   "display_name": "R",
   "language": "R",
   "name": "ir"
  },
  "language_info": {
   "codemirror_mode": "r",
   "file_extension": ".r",
   "mimetype": "text/x-r-source",
   "name": "R",
   "pygments_lexer": "r",
   "version": "4.1.3"
  }
 },
 "nbformat": 4,
 "nbformat_minor": 5
}
